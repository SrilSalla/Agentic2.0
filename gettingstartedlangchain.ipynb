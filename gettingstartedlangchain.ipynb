{
 "cells": [
  {
   "cell_type": "code",
   "execution_count": 1,
   "id": "991265df",
   "metadata": {},
   "outputs": [
    {
     "data": {
      "text/plain": [
       "True"
      ]
     },
     "execution_count": 1,
     "metadata": {},
     "output_type": "execute_result"
    }
   ],
   "source": [
    "import os\n",
    "from dotenv import load_dotenv\n",
    "load_dotenv()\n"
   ]
  },
  {
   "cell_type": "code",
   "execution_count": 2,
   "id": "603e6110",
   "metadata": {},
   "outputs": [],
   "source": [
    "os.environ[\"OPENAI_API_KEY\"] = os.getenv(\"OPENAI_API_KEY\")\n",
    "os.environ[\"GROQ_API_KEY\"] = os.getenv(\"GROQ_API_KEY\")\n",
    "os.environ[\"LANGCHAIN_API_KEY\"] = os.getenv(\"LANGCHAIN_API_KEY\")\n",
    "os.environ[\"LANGCHAIN_PROJECT\"] = os.getenv(\"LANGCHAIN_PROJECT\")\n",
    "os.environ[\"LANGCHAIN_TRACING_V2\"] = \"true\"\n"
   ]
  },
  {
   "cell_type": "code",
   "execution_count": 3,
   "id": "9553734c",
   "metadata": {},
   "outputs": [
    {
     "name": "stdout",
     "output_type": "stream",
     "text": [
      "client=<openai.resources.chat.completions.completions.Completions object at 0x000001F2D64971D0> async_client=<openai.resources.chat.completions.completions.AsyncCompletions object at 0x000001F2D64C1B80> root_client=<openai.OpenAI object at 0x000001F2D5050710> root_async_client=<openai.AsyncOpenAI object at 0x000001F2D64E53D0> model_name='o1-mini' temperature=1.0 model_kwargs={} openai_api_key=SecretStr('**********')\n"
     ]
    }
   ],
   "source": [
    "# using langchain_openai to create a chat model with o1-mini\n",
    "from langchain_openai import ChatOpenAI\n",
    "\n",
    "llm=ChatOpenAI(model=\"o1-mini\")\n",
    "print(llm)\n"
   ]
  },
  {
   "cell_type": "code",
   "execution_count": 4,
   "id": "83739300",
   "metadata": {},
   "outputs": [
    {
     "name": "stdout",
     "output_type": "stream",
     "text": [
      "content='**Agentic AI** refers to artificial intelligence systems that possess a degree of agency, allowing them to operate autonomously, make decisions, and take actions toward achieving specific goals without constant human intervention. The concept of agency in AI implies that these systems can perceive their environment, interpret data, learn from experiences, and respond proactively to changing circumstances.\\n\\n### Key Characteristics of Agentic AI:\\n\\n1. **Autonomy:** Agentic AI can perform tasks and make decisions independently, reducing the need for real-time human oversight.\\n   \\n2. **Goal-Oriented Behavior:** These AI systems are designed to pursue specific objectives, adapting their strategies as needed to achieve desired outcomes.\\n\\n3. **Adaptability and Learning:** Agentic AI can learn from interactions and experiences, improving its performance over time and adjusting to new situations.\\n\\n4. **Perception and Interaction:** These systems are equipped with sensors and interfaces that allow them to understand and interact with their environment effectively.\\n\\n### Applications of Agentic AI:\\n\\n- **Autonomous Vehicles:** Self-driving cars navigate and make driving decisions without human input.\\n  \\n- **Personal Assistants:** Advanced virtual assistants manage schedules, control smart home devices, and perform tasks based on user preferences.\\n  \\n- **Robotics:** Industrial robots, drones, and service robots operate autonomously in various settings, from manufacturing floors to delivery services.\\n  \\n- **Healthcare:** AI-driven diagnostic tools and treatment planners can autonomously analyze medical data and suggest interventions.\\n\\n- **Finance:** Automated trading systems execute investment strategies based on real-time market analysis.\\n\\n### Ethical and Safety Considerations:\\n\\nWith the increasing capabilities of agentic AI, several ethical and safety issues arise:\\n\\n- **Alignment with Human Values:** Ensuring that AI systems act in ways that are consistent with human ethics and societal norms.\\n\\n- **Accountability:** Determining responsibility for the actions taken by autonomous AI systems, especially in cases of errors or unintended consequences.\\n\\n- **Transparency:** Making the decision-making processes of AI systems understandable to humans to build trust and facilitate oversight.\\n\\n- **Control and Oversight:** Maintaining mechanisms for humans to oversee, guide, and intervene in the operations of autonomous AI when necessary.\\n\\n### Future Directions:\\n\\nResearch in agentic AI focuses on enhancing the autonomy and adaptability of AI systems while addressing the associated ethical and safety challenges. Key areas include:\\n\\n- **Improved Learning Algorithms:** Developing more sophisticated machine learning techniques that enable AI to better understand and adapt to complex environments.\\n  \\n- **Human-AI Collaboration:** Creating frameworks for effective interaction and cooperation between humans and autonomous AI systems.\\n  \\n- **Robustness and Reliability:** Ensuring that agentic AI systems can operate reliably under a wide range of conditions and recover gracefully from unexpected situations.\\n\\n- **Ethical Frameworks:** Establishing guidelines and standards to govern the development and deployment of agentic AI, ensuring they benefit society while minimizing risks.\\n\\n### Conclusion\\n\\nAgentic AI represents a significant advancement in artificial intelligence, enabling machines to perform complex, autonomous tasks that were previously reliant on human intervention. While the potential benefits are substantial, it is crucial to address the ethical, safety, and societal implications to ensure that agentic AI systems are developed and utilized responsibly.' additional_kwargs={'refusal': None} response_metadata={'token_usage': {'completion_tokens': 1093, 'prompt_tokens': 13, 'total_tokens': 1106, 'completion_tokens_details': {'accepted_prediction_tokens': 0, 'audio_tokens': 0, 'reasoning_tokens': 448, 'rejected_prediction_tokens': 0}, 'prompt_tokens_details': {'audio_tokens': 0, 'cached_tokens': 0}}, 'model_name': 'o1-mini-2024-09-12', 'system_fingerprint': 'fp_7989eaacf6', 'id': 'chatcmpl-BaqOqjWglSUFaMGbnyMPnEqge7jyk', 'service_tier': 'default', 'finish_reason': 'stop', 'logprobs': None} id='run--174e7886-d80f-44a8-8da1-0b5da74feaca-0' usage_metadata={'input_tokens': 13, 'output_tokens': 1093, 'total_tokens': 1106, 'input_token_details': {'audio': 0, 'cache_read': 0}, 'output_token_details': {'audio': 0, 'reasoning': 448}}\n"
     ]
    }
   ],
   "source": [
    "\n",
    "result=llm.invoke(\"What is Agentic AI\")\n",
    "print(result)"
   ]
  },
  {
   "cell_type": "code",
   "execution_count": 5,
   "id": "6d0fea14",
   "metadata": {},
   "outputs": [
    {
     "name": "stdout",
     "output_type": "stream",
     "text": [
      "**Agentic AI** refers to artificial intelligence systems that possess a degree of agency, allowing them to operate autonomously, make decisions, and take actions toward achieving specific goals without constant human intervention. The concept of agency in AI implies that these systems can perceive their environment, interpret data, learn from experiences, and respond proactively to changing circumstances.\n",
      "\n",
      "### Key Characteristics of Agentic AI:\n",
      "\n",
      "1. **Autonomy:** Agentic AI can perform tasks and make decisions independently, reducing the need for real-time human oversight.\n",
      "   \n",
      "2. **Goal-Oriented Behavior:** These AI systems are designed to pursue specific objectives, adapting their strategies as needed to achieve desired outcomes.\n",
      "\n",
      "3. **Adaptability and Learning:** Agentic AI can learn from interactions and experiences, improving its performance over time and adjusting to new situations.\n",
      "\n",
      "4. **Perception and Interaction:** These systems are equipped with sensors and interfaces that allow them to understand and interact with their environment effectively.\n",
      "\n",
      "### Applications of Agentic AI:\n",
      "\n",
      "- **Autonomous Vehicles:** Self-driving cars navigate and make driving decisions without human input.\n",
      "  \n",
      "- **Personal Assistants:** Advanced virtual assistants manage schedules, control smart home devices, and perform tasks based on user preferences.\n",
      "  \n",
      "- **Robotics:** Industrial robots, drones, and service robots operate autonomously in various settings, from manufacturing floors to delivery services.\n",
      "  \n",
      "- **Healthcare:** AI-driven diagnostic tools and treatment planners can autonomously analyze medical data and suggest interventions.\n",
      "\n",
      "- **Finance:** Automated trading systems execute investment strategies based on real-time market analysis.\n",
      "\n",
      "### Ethical and Safety Considerations:\n",
      "\n",
      "With the increasing capabilities of agentic AI, several ethical and safety issues arise:\n",
      "\n",
      "- **Alignment with Human Values:** Ensuring that AI systems act in ways that are consistent with human ethics and societal norms.\n",
      "\n",
      "- **Accountability:** Determining responsibility for the actions taken by autonomous AI systems, especially in cases of errors or unintended consequences.\n",
      "\n",
      "- **Transparency:** Making the decision-making processes of AI systems understandable to humans to build trust and facilitate oversight.\n",
      "\n",
      "- **Control and Oversight:** Maintaining mechanisms for humans to oversee, guide, and intervene in the operations of autonomous AI when necessary.\n",
      "\n",
      "### Future Directions:\n",
      "\n",
      "Research in agentic AI focuses on enhancing the autonomy and adaptability of AI systems while addressing the associated ethical and safety challenges. Key areas include:\n",
      "\n",
      "- **Improved Learning Algorithms:** Developing more sophisticated machine learning techniques that enable AI to better understand and adapt to complex environments.\n",
      "  \n",
      "- **Human-AI Collaboration:** Creating frameworks for effective interaction and cooperation between humans and autonomous AI systems.\n",
      "  \n",
      "- **Robustness and Reliability:** Ensuring that agentic AI systems can operate reliably under a wide range of conditions and recover gracefully from unexpected situations.\n",
      "\n",
      "- **Ethical Frameworks:** Establishing guidelines and standards to govern the development and deployment of agentic AI, ensuring they benefit society while minimizing risks.\n",
      "\n",
      "### Conclusion\n",
      "\n",
      "Agentic AI represents a significant advancement in artificial intelligence, enabling machines to perform complex, autonomous tasks that were previously reliant on human intervention. While the potential benefits are substantial, it is crucial to address the ethical, safety, and societal implications to ensure that agentic AI systems are developed and utilized responsibly.\n"
     ]
    }
   ],
   "source": [
    "print(result.content)"
   ]
  },
  {
   "cell_type": "code",
   "execution_count": 6,
   "id": "52f5e4e2",
   "metadata": {},
   "outputs": [
    {
     "data": {
      "text/plain": [
       "AIMessage(content=\"Hello Groq! 👋\\n\\nIt's nice to meet you. What can I do for you today? 😊  \\n\\n\", additional_kwargs={}, response_metadata={'token_usage': {'completion_tokens': 28, 'prompt_tokens': 15, 'total_tokens': 43, 'completion_time': 0.050909091, 'prompt_time': 0.001934585, 'queue_time': 0.018731553, 'total_time': 0.052843676}, 'model_name': 'gemma2-9b-it', 'system_fingerprint': 'fp_10c08bf97d', 'finish_reason': 'stop', 'logprobs': None}, id='run--036dce77-adbe-46ff-aaac-6702ec49e4ae-0', usage_metadata={'input_tokens': 15, 'output_tokens': 28, 'total_tokens': 43})"
      ]
     },
     "execution_count": 6,
     "metadata": {},
     "output_type": "execute_result"
    }
   ],
   "source": [
    "# using the langchain_groq to create a chat model with gemma2-9b-it\n",
    "from langchain_groq import ChatGroq\n",
    "model = ChatGroq(model=\"gemma2-9b-it\")\n",
    "model.invoke(\"Hi my name is groq\")"
   ]
  },
  {
   "cell_type": "code",
   "execution_count": 7,
   "id": "c2e9ae89",
   "metadata": {},
   "outputs": [],
   "source": [
    "### Prompt Engineering\n",
    "from langchain_core.prompts import ChatPromptTemplate\n",
    "\n",
    "prompt = ChatPromptTemplate.from_messages(\n",
    "    [\n",
    "        (\"system\",\"You are an expert AI Engineer. Provide me answer based on the question\"),\n",
    "        (\"user\",\"{input}\")\n",
    "    ]\n",
    ")\n",
    "\n"
   ]
  },
  {
   "cell_type": "code",
   "execution_count": 8,
   "id": "4d153a8e",
   "metadata": {},
   "outputs": [],
   "source": [
    "from langchain_groq import ChatGroq\n",
    "model = ChatGroq(model=\"gemma2-9b-it\")"
   ]
  },
  {
   "cell_type": "code",
   "execution_count": 9,
   "id": "78cb15b2",
   "metadata": {},
   "outputs": [
    {
     "name": "stdout",
     "output_type": "stream",
     "text": [
      "## Diving into the Metaverse: More Than Just a Buzzword\n",
      "\n",
      "The metaverse is a captivating concept that's generating a lot of excitement (and some skepticism).  As an AI engineer, I see it as a fascinating technological frontier with the potential to revolutionize how we interact, work, and play. \n",
      "\n",
      "**Here's a breakdown:**\n",
      "\n",
      "**What is it?**\n",
      "\n",
      "Imagine a persistent, shared, 3D virtual world accessible through various devices like VR headsets, AR glasses, or even smartphones. This is the essence of the metaverse: a network of interconnected virtual environments where users can create avatars, socialize, engage in activities, and build economies.\n",
      "\n",
      "**Key Characteristics:**\n",
      "\n",
      "* **Persistence:** The metaverse doesn't simply shut down when you log off. It continues to exist, evolving and changing even in your absence.\n",
      "* **Interoperability:** Ideally, different metaverse platforms would connect and allow users to seamlessly move between them, taking their assets and identities with them.\n",
      "* **User-Generated Content:**  The metaverse thrives on user creativity. People can build, design, and share experiences, making it a dynamic and constantly evolving space.\n",
      "* **Immersion:**  VR and AR technologies aim to create a sense of presence and immersion, blurring the lines between the physical and virtual worlds.\n",
      "\n",
      "**What's the Big Deal?**\n",
      "\n",
      "The metaverse has the potential to:\n",
      "\n",
      "* **Transform Social Interaction:** Imagine attending concerts, conferences, or even weddings with friends from around the world, all within a shared virtual space.\n",
      "* **Revolutionize Work:** Collaborative projects, virtual offices, and immersive training simulations could become the norm, enhancing productivity and efficiency.\n",
      "* **Empower Creators:**  The metaverse offers new platforms for artists, musicians, and developers to showcase their work, connect with audiences, and build communities.\n",
      "* **Fuel New Economies:** Virtual goods, services, and currencies could create entirely new economic opportunities and markets.\n",
      "\n",
      "**Challenges Ahead:**\n",
      "\n",
      "While the metaverse holds immense promise, there are also significant challenges:\n",
      "\n",
      "* **Technical Complexity:** Building a truly interoperable and scalable metaverse requires overcoming complex technological hurdles.\n",
      "* **Privacy and Security:**  Protecting user data and ensuring the safety and security of virtual environments are paramount.\n",
      "* **Accessibility and Inclusivity:**  Making the metaverse accessible to everyone, regardless of their technical expertise or resources, is crucial.\n",
      "* **Ethical Considerations:**  Addressing issues like virtual harassment, digital addiction, and the potential for manipulation requires careful thought and regulation.\n",
      "\n",
      "\n",
      "The metaverse is still in its early stages, but it's clear that it has the potential to reshape our world in profound ways. As an AI engineer, I'm excited to see how this technology continues to evolve and the opportunities it will create.\n",
      "\n"
     ]
    }
   ],
   "source": [
    "## create a chain with the prompt and model\n",
    "chain = prompt | model\n",
    "result = chain.invoke({\"input\": \"Can you tell me something about metaverse?\"})\n",
    "print(result.content)\n"
   ]
  },
  {
   "cell_type": "code",
   "execution_count": 10,
   "id": "1138da27",
   "metadata": {},
   "outputs": [
    {
     "name": "stdout",
     "output_type": "stream",
     "text": [
      "As an AI Engineer, I'm excited about the vast potential of AI and its transformative impact on the future. \n",
      "\n",
      "Here's my take on what the future holds for AI, broken down into key areas:\n",
      "\n",
      "**1.  Increased Democratization of AI:**\n",
      "\n",
      "* **No-code/Low-code Platforms:** Expect more user-friendly tools that allow individuals and businesses without deep technical expertise to build and deploy AI models. This will empower a broader range of people to leverage AI's benefits.\n",
      "\n",
      "* **Open-Source Advancements:** Continued growth in open-source AI tools, datasets, and research will accelerate innovation and make AI more accessible to everyone.\n",
      "\n",
      "**2.  AI Specialization and Personalization:**\n",
      "\n",
      "* **Industry-Specific AI:** We'll see AI models tailored to specific industries like healthcare, finance, manufacturing, and education, leading to more precise and effective solutions.\n",
      "* **Personalized AI:** AI assistants will become more personalized, learning individual preferences and adapting to unique needs, from customized learning experiences to personalized health recommendations.\n",
      "\n",
      "**3.  AI-Powered Automation and Efficiency:**\n",
      "\n",
      "* **Automation of Repetitive Tasks:** AI will automate even more repetitive and mundane tasks, freeing up human workers for more creative and strategic endeavors.\n",
      "* **Process Optimization:** AI will analyze data to identify inefficiencies and bottlenecks in processes, leading to significant improvements in productivity and resource allocation.\n",
      "\n",
      "**4.  Ethical and Responsible AI:**\n",
      "\n",
      "* **Bias Mitigation:**  Efforts to identify and mitigate bias in AI algorithms will be crucial to ensure fairness and prevent discriminatory outcomes.\n",
      "* **Transparency and Explainability:**  Developing AI models that are more transparent and explainable will build trust and accountability.\n",
      "* **Data Privacy and Security:**  Robust safeguards will be essential to protect sensitive data used in AI systems.\n",
      "\n",
      "**5.  AI and Human Collaboration:**\n",
      "\n",
      "* **Augmentation, Not Replacement:** AI will primarily augment human capabilities, providing insights, support, and assistance rather than replacing humans entirely.\n",
      "* **New Job Roles:** The rise of AI will create new job roles focused on developing, deploying, and managing AI systems, as well as interpreting and collaborating with AI.\n",
      "\n",
      "**Challenges:**\n",
      "\n",
      "* **Data Access and Quality:**  AI relies heavily on data, and access to high-quality, diverse, and representative data will be crucial for developing effective and unbiased AI models.\n",
      "* **Computational Resources:** Training complex AI models can be computationally expensive, requiring significant energy and infrastructure.\n",
      "* **Regulation and Governance:**  Establishing clear guidelines and regulations for the development and deployment of AI will be essential to ensure responsible and ethical use.\n",
      "\n",
      "**Overall, the future of AI is bright.** While challenges remain, the potential benefits of AI are immense, promising to revolutionize various aspects of our lives, from healthcare and education to transportation and entertainment. \n",
      "\n",
      "As an AI Engineer, I'm excited to be part of this journey and contribute to building a future where AI empowers humanity and creates a better world for all.\n",
      "\n"
     ]
    }
   ],
   "source": [
    "### OutputParser (String Output Parser)\n",
    "\n",
    "from langchain_core.output_parsers import StrOutputParser\n",
    "output_parser = StrOutputParser()\n",
    "\n",
    "chain = prompt | model | output_parser\n",
    "\n",
    "response = chain.invoke({\"input\": \"What is the future of AI?\"})\n",
    "print(response)\n",
    "\n"
   ]
  },
  {
   "cell_type": "code",
   "execution_count": 11,
   "id": "60c481e5",
   "metadata": {},
   "outputs": [
    {
     "name": "stdout",
     "output_type": "stream",
     "text": [
      "{'future_of_ai': 'The future of AI is brimming with possibilities, promising transformative advancements across diverse sectors.  \\n\\n  **Key Trends:**\\n\\n  * **General AI:**  Continued progress towards developing artificial general intelligence (AGI), capable of performing any intellectual task a human can.\\n  * **Explainable AI (XAI):**  Increased focus on making AI decision-making processes transparent and understandable to humans.\\n  * **Edge AI:**  Deployment of AI algorithms on edge devices (e.g., smartphones, IoT sensors) for faster processing and reduced reliance on cloud connectivity.\\n  * **AI for Social Good:**  Leveraging AI to address global challenges such as healthcare, education, climate change, and poverty.\\n  * **Ethical AI:**  Growing emphasis on developing and deploying AI systems responsibly, addressing concerns about bias, fairness, and privacy.\\n\\n  **Potential Impacts:**\\n\\n  * **Automation:**  AI-powered automation will reshape industries, leading to increased efficiency and productivity but also potential job displacement.\\n  * **Personalized Experiences:**  Tailored products, services, and content based on individual preferences and needs.\\n  * **Scientific Discovery:**  Accelerated research and development in fields like medicine, materials science, and drug discovery.\\n  * **New Business Models:**  Emergence of innovative business models driven by AI-powered insights and automation.\\n\\n  **Challenges:**\\n\\n  * **Data Bias:**  AI algorithms can perpetuate existing societal biases if trained on biased data.\\n  * **Job Displacement:**  Widespread automation may lead to job losses in certain sectors.\\n  * **Security Risks:**  AI systems can be vulnerable to hacking and malicious attacks.\\n  * **Regulation and Governance:**  Developing appropriate regulations and ethical guidelines for the development and deployment of AI.\\n\\n  The future of AI is both exciting and challenging. It holds immense potential for positive impact but also requires careful consideration of the ethical, social, and economic implications.'}\n"
     ]
    }
   ],
   "source": [
    "### OutputParser (JSON Output Parser)\n",
    "\n",
    "from langchain_core.output_parsers import JsonOutputParser\n",
    "from langchain_core.prompts import PromptTemplate\n",
    "\n",
    "\n",
    "output_parser = JsonOutputParser()\n",
    "\n",
    "prompt = PromptTemplate(\n",
    "    template=\"Answer the user query \\n {format_instruction}\\n {query}\\n \",\n",
    "    input_variables=[\"query\"],\n",
    "    partial_variables={\"format_instruction\":output_parser.get_format_instructions()},\n",
    ")\n",
    " \n",
    "chain = prompt | model | output_parser\n",
    "\n",
    "response = chain.invoke({\"query\": \"What is the future of AI?\"})\n",
    "print(response)"
   ]
  },
  {
   "cell_type": "code",
   "execution_count": 29,
   "id": "d4f5b5e1",
   "metadata": {},
   "outputs": [
    {
     "name": "stdout",
     "output_type": "stream",
     "text": [
      "content='<response><answer>LangChain is a framework for developing applications powered by language models. It provides tools and building blocks for tasks like prompting, memory management, agent creation, and integration with external data sources.</answer></response>\\n' additional_kwargs={} response_metadata={'token_usage': {'completion_tokens': 49, 'prompt_tokens': 40, 'total_tokens': 89, 'completion_time': 0.089090909, 'prompt_time': 0.002403424, 'queue_time': 0.018033906, 'total_time': 0.091494333}, 'model_name': 'gemma2-9b-it', 'system_fingerprint': 'fp_10c08bf97d', 'finish_reason': 'stop', 'logprobs': None} id='run--4237935e-c8d9-4f1d-8d00-f5dea4573a2c-0' usage_metadata={'input_tokens': 40, 'output_tokens': 49, 'total_tokens': 89}\n"
     ]
    }
   ],
   "source": [
    "##output parser\n",
    "#from langchain_core.output_parsers import XMLOutputParser\n",
    "from langchain_core.prompts import ChatPromptTemplate\n",
    "from langchain.output_parsers.xml import XMLOutputParser\n",
    "output_parser = XMLOutputParser()\n",
    "\n",
    "prompt = ChatPromptTemplate.from_messages([\n",
    "       (\"system\", \"You are a helpful assistant. Respond ONLY in this XML format: <response><answer>Your answer here</answer></response>\"),\n",
    "       (\"human\", \"{input}\")\n",
    "])\n",
    " \n",
    "# chain = prompt | model | output_parser (do not user output_parser here to return the raw output)\n",
    "\n",
    "chain = prompt | model\n",
    "\n",
    "raw_output =chain.invoke({\"input\": \"What is LangChain?\"})\n",
    "\n",
    "# Print result\n",
    "print(raw_output)\n"
   ]
  },
  {
   "cell_type": "code",
   "execution_count": 30,
   "id": "1c6d8227",
   "metadata": {},
   "outputs": [
    {
     "data": {
      "text/plain": [
       "{'setup': \"Why don't scientists trust atoms?\",\n",
       " 'punchline': 'Because they make up everything!'}"
      ]
     },
     "execution_count": 30,
     "metadata": {},
     "output_type": "execute_result"
    }
   ],
   "source": [
    "## With Pydantic\n",
    "\n",
    "from langchain_core.output_parsers import JsonOutputParser\n",
    "from langchain_core.prompts import PromptTemplate\n",
    "from langchain_openai import ChatOpenAI\n",
    "from pydantic import BaseModel, Field\n",
    "\n",
    "# Define your desired data structure.\n",
    "class Joke(BaseModel):\n",
    "    setup: str = Field(description=\"question to set up a joke\")\n",
    "    punchline: str = Field(description=\"answer to resolve the joke\")\n",
    "\n",
    "# And a query intented to prompt a language model to populate the data structure.\n",
    "joke_query = \"Tell me a joke.\"\n",
    "\n",
    "# Set up a parser + inject instructions into the prompt template.\n",
    "parser = JsonOutputParser(pydantic_object=Joke)\n",
    "\n",
    "prompt = PromptTemplate(\n",
    "    template=\"Answer the user query \\n {format_instruction}\\n {query}\\n \",\n",
    "    input_variables=[\"query\"],\n",
    "    partial_variables={\"format_instruction\": parser.get_format_instructions()},\n",
    ")\n",
    "\n",
    "chain = prompt | model | parser\n",
    "\n",
    "chain.invoke({\"query\": joke_query})\n"
   ]
  },
  {
   "cell_type": "code",
   "execution_count": 31,
   "id": "4281f72a",
   "metadata": {},
   "outputs": [
    {
     "data": {
      "text/plain": [
       "{'joke': \"Why don't scientists trust atoms? Because they make up everything!\"}"
      ]
     },
     "execution_count": 31,
     "metadata": {},
     "output_type": "execute_result"
    }
   ],
   "source": [
    "### Without Pydantic\n",
    "joke_query = \"Tell me a joke .\"\n",
    "\n",
    "parser = JsonOutputParser()\n",
    "\n",
    "prompt = PromptTemplate(\n",
    "    template=\"Answer the user query.\\n{format_instructions}\\n{query}\\n\",\n",
    "    input_variables=[\"query\"],\n",
    "    partial_variables={\"format_instructions\": parser.get_format_instructions()},\n",
    ")\n",
    "\n",
    "chain = prompt | model | parser\n",
    "\n",
    "chain.invoke({\"query\": joke_query})"
   ]
  },
  {
   "cell_type": "code",
   "execution_count": null,
   "id": "52795058",
   "metadata": {},
   "outputs": [
    {
     "name": "stdout",
     "output_type": "stream",
     "text": [
      "Here is a shortened filmography for Tom Hanks, with movies enclosed in <movie></movie> tags:\n",
      "\n",
      "* <movie>Splash</movie> (1984)\n",
      "* <movie>Big</movie> (1988)\n",
      "* <movie>Sleepless in Seattle</movie> (1993)\n",
      "* <movie>Forrest Gump</movie> (1994)\n",
      "* <movie>Apollo 13</movie> (1995)\n",
      "* <movie>Toy Story</movie> (1995)\n",
      "* <movie>Saving Private Ryan</movie> (1998)\n",
      "* <movie>Cast Away</movie> (2000)\n",
      "* <movie>Catch Me If You Can</movie> (2002)\n",
      "* <movie>The Da Vinci Code</movie> (2006)\n",
      "* <movie>Toy Story 3</movie> (2010)\n",
      "* <movie>Captain Phillips</movie> (2013)\n",
      "* <movie>Bridge of Spies</movie> (2015)\n",
      "* <movie>A Beautiful Day in the Neighborhood</movie> (2019) \n",
      "\n",
      "\n",
      "This list highlights some of his most popular and critically acclaimed roles. \n",
      "\n",
      "\n"
     ]
    }
   ],
   "source": [
    "# using XMLOutputParser to parse the output in XML format\n",
    "from langchain_core.output_parsers import XMLOutputParser\n",
    "from langchain_core.prompts import PromptTemplate\n",
    "\n",
    "actor_query = \"Generate the shortened filmography for Tom Hanks.\"\n",
    "\n",
    "output = model.invoke(f\"\"\"{actor_query}\n",
    "Please enclose the movies in <movie></movie> tags\"\"\"\n",
    ")\n",
    "\n",
    "print(output.content)"
   ]
  },
  {
   "cell_type": "code",
   "execution_count": 35,
   "id": "6b92d641",
   "metadata": {},
   "outputs": [
    {
     "data": {
      "text/plain": [
       "Joke(setup='Why did the scarecrow win an award?', punchline='Because he was outstanding in his field!')"
      ]
     },
     "execution_count": 35,
     "metadata": {},
     "output_type": "execute_result"
    }
   ],
   "source": [
    "# using Pythantic, OpenXML,OutputParser to parse the output in XML format\n",
    "# using langchain_core.output_parsers import YamlOutputParser\n",
    "\n",
    "from langchain.output_parsers import YamlOutputParser\n",
    "from langchain_core.prompts import PromptTemplate\n",
    "from langchain_openai import ChatOpenAI\n",
    "from pydantic import BaseModel, Field\n",
    "\n",
    "\n",
    "# Define your desired data structure.\n",
    "class Joke(BaseModel):\n",
    "    setup: str = Field(description=\"question to set up a joke\")\n",
    "    punchline: str = Field(description=\"answer to resolve the joke\")\n",
    "\n",
    "\n",
    "model = ChatOpenAI(temperature=0.5)\n",
    "\n",
    "# And a query intented to prompt a language model to populate the data structure.\n",
    "joke_query = \"Tell me a joke.\"\n",
    "\n",
    "# Set up a parser + inject instructions into the prompt template.\n",
    "parser = YamlOutputParser(pydantic_object=Joke)\n",
    "\n",
    "prompt = PromptTemplate(\n",
    "    template=\"Answer the user query.\\n{format_instructions}\\n{query}\\n\",\n",
    "    input_variables=[\"query\"],\n",
    "    partial_variables={\"format_instructions\": parser.get_format_instructions()},\n",
    ")\n",
    "\n",
    "chain = prompt | model | parser\n",
    "\n",
    "chain.invoke({\"query\": joke_query})"
   ]
  },
  {
   "cell_type": "markdown",
   "id": "5794adb1",
   "metadata": {},
   "source": [
    "### Assisgment:\n",
    "Create a simple assistant that uses any LLM and should be pydantic, when we ask about any product it should give you two information product Name, product details tentative price in USD (integer). use chat Prompt Template."
   ]
  },
  {
   "cell_type": "code",
   "execution_count": 38,
   "id": "e72ed709",
   "metadata": {},
   "outputs": [
    {
     "name": "stdout",
     "output_type": "stream",
     "text": [
      "{'product': 'iPhone 15', 'details': 'The iPhone 15 is the latest flagship smartphone from Apple, featuring a stunning design, advanced camera system, powerful processor, and the latest iOS software. It comes with a high-resolution display, improved battery life, and a range of storage options.', 'price_usd': 1200}\n"
     ]
    }
   ],
   "source": [
    "from langchain_openai import ChatOpenAI\n",
    "from langchain_core.prompts import ChatPromptTemplate\n",
    "from langchain_core.output_parsers import JsonOutputParser\n",
    "from pydantic import BaseModel, Field\n",
    "\n",
    "# Define the Pydantic class for product info\n",
    "class ProductInfo(BaseModel):\n",
    "    name: str = Field(description=\"Product name\")\n",
    "    details: str = Field(description=\"Product details\")\n",
    "    price_usd: int = Field(description=\"Tentative price in USD\")\n",
    "\n",
    "# Set up the output parser\n",
    "parser = JsonOutputParser(pydantic_object=ProductInfo)\n",
    "\n",
    "# Create the chat prompt template\n",
    "prompt = ChatPromptTemplate.from_messages([\n",
    "    (\"system\", \"You are a helpful assistant. When asked about any product, respond in JSON with product name, details, and a tentative price in USD (integer).\"),\n",
    "    (\"user\", \"{input}\")\n",
    "])\n",
    "\n",
    "# Initialize the model\n",
    "model = ChatOpenAI(model=\"gpt-3.5-turbo\", temperature=0.3)\n",
    "\n",
    "# Create the chain\n",
    "chain = prompt | model | parser\n",
    "\n",
    "# Example usage\n",
    "response = chain.invoke({\"input\": \"Tell me about the iPhone 15\"})\n",
    "print(response)"
   ]
  }
 ],
 "metadata": {
  "kernelspec": {
   "display_name": "Python 3",
   "language": "python",
   "name": "python3"
  },
  "language_info": {
   "codemirror_mode": {
    "name": "ipython",
    "version": 3
   },
   "file_extension": ".py",
   "mimetype": "text/x-python",
   "name": "python",
   "nbconvert_exporter": "python",
   "pygments_lexer": "ipython3",
   "version": "3.12.0"
  }
 },
 "nbformat": 4,
 "nbformat_minor": 5
}
